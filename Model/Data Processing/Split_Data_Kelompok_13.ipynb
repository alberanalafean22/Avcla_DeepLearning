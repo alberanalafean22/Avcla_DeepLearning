{
  "nbformat": 4,
  "nbformat_minor": 0,
  "metadata": {
    "colab": {
      "provenance": []
    },
    "kernelspec": {
      "name": "python3",
      "display_name": "Python 3"
    },
    "language_info": {
      "name": "python"
    }
  },
  "cells": [
    {
      "cell_type": "markdown",
      "source": [
        "## Split Data"
      ],
      "metadata": {
        "id": "zsXmJX1Y37FH"
      }
    },
    {
      "cell_type": "code",
      "source": [
        "from google.colab import drive\n",
        "drive.mount('/content/drive')"
      ],
      "metadata": {
        "colab": {
          "base_uri": "https://localhost:8080/"
        },
        "id": "hn5zpePuOsHn",
        "outputId": "5280c2fc-6bd7-4bab-e5ce-60e6df6c6078"
      },
      "execution_count": null,
      "outputs": [
        {
          "output_type": "stream",
          "name": "stdout",
          "text": [
            "Mounted at /content/drive\n"
          ]
        }
      ]
    },
    {
      "cell_type": "code",
      "execution_count": null,
      "metadata": {
        "id": "tnYRlYJD2HNs",
        "colab": {
          "base_uri": "https://localhost:8080/"
        },
        "outputId": "71aee465-1e14-4558-a2b6-c46029dead83"
      },
      "outputs": [
        {
          "output_type": "stream",
          "name": "stdout",
          "text": [
            "Data berhasil di-split berdasarkan kelas!\n"
          ]
        }
      ],
      "source": [
        "import os\n",
        "import shutil\n",
        "from sklearn.model_selection import train_test_split\n",
        "\n",
        "def split_data_by_class(input_folder, output_folder):\n",
        "    # Membuat folder train, test, val\n",
        "    for split in ['train', 'test', 'val']:\n",
        "        split_path = os.path.join(output_folder, split)\n",
        "        if not os.path.exists(split_path):\n",
        "            os.makedirs(split_path)\n",
        "\n",
        "    # Iterasi untuk setiap kelas (subfolder)\n",
        "    for class_name in os.listdir(input_folder):\n",
        "        class_path = os.path.join(input_folder, class_name)\n",
        "        if os.path.isdir(class_path):  # Pastikan hanya memproses folder kelas\n",
        "            files = [f for f in os.listdir(class_path) if f.endswith('.png')]\n",
        "\n",
        "            # Membagi data menjadi train, test, val\n",
        "            train_files, test_val_files = train_test_split(files, test_size=0.2, random_state=42)\n",
        "            test_files, val_files = train_test_split(test_val_files, test_size=0.5, random_state=42)\n",
        "\n",
        "            # Memindahkan file ke folder yang sesuai\n",
        "            for file_list, split in zip([train_files, test_files, val_files], ['train', 'test', 'val']):\n",
        "                for f in file_list:\n",
        "                    dest_folder = os.path.join(output_folder, split, class_name)  # Tambahkan subfolder kelas\n",
        "                    if not os.path.exists(dest_folder):\n",
        "                        os.makedirs(dest_folder)\n",
        "                    shutil.copy(os.path.join(class_path, f), os.path.join(dest_folder, f))\n",
        "    print(\"Data berhasil di-split berdasarkan kelas!\")\n",
        "\n",
        "#Contoh penggunaan\n",
        "input_folder = \"/content/drive/MyDrive/Dataset Burung Mel-Spektrogram Filter\"  # Folder input\n",
        "output_folder = \"/content/drive/MyDrive/Split Data\"  # Folder output\n",
        "split_data_by_class(input_folder, output_folder)\n"
      ]
    }
  ]
}