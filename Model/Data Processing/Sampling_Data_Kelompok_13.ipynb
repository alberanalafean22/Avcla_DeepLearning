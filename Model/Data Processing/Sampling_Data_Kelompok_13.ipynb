{
  "nbformat": 4,
  "nbformat_minor": 0,
  "metadata": {
    "colab": {
      "provenance": [],
      "collapsed_sections": [
        "xJcH90ypRNKE"
      ]
    },
    "kernelspec": {
      "name": "python3",
      "display_name": "Python 3"
    },
    "language_info": {
      "name": "python"
    }
  },
  "cells": [
    {
      "cell_type": "markdown",
      "source": [
        "# Sampling Data"
      ],
      "metadata": {
        "id": "xJcH90ypRNKE"
      }
    },
    {
      "cell_type": "code",
      "source": [
        "from google.colab import drive\n",
        "drive.mount('/content/drive')\n"
      ],
      "metadata": {
        "colab": {
          "base_uri": "https://localhost:8080/"
        },
        "id": "xZFZokCrfekd",
        "outputId": "1adfab49-eb5e-4ec6-fb69-438ec7254ac2"
      },
      "execution_count": null,
      "outputs": [
        {
          "output_type": "stream",
          "name": "stdout",
          "text": [
            "Mounted at /content/drive\n"
          ]
        }
      ]
    },
    {
      "cell_type": "markdown",
      "source": [
        "## Cacomantis Merulinus"
      ],
      "metadata": {
        "id": "a5OoOOjsRJOc"
      }
    },
    {
      "cell_type": "code",
      "source": [
        "import os\n",
        "import shutil\n",
        "import random\n",
        "\n",
        "# Path asal tempat file berada\n",
        "source_path = \"/content/drive/MyDrive/Dataset Burung Terbaru/Cacomantis Merulinus\"\n",
        "\n",
        "# Path tujuan untuk menyimpan file yang diacak\n",
        "output_path = \"/content/drive/MyDrive/Filter Data/Cacomantis Merulinus\"\n",
        "\n",
        "# Periksa apakah path sumber ada\n",
        "if not os.path.exists(source_path):\n",
        "    raise FileNotFoundError(f\"Source path '{source_path}' does not exist.\")\n",
        "\n",
        "# Buat folder output jika belum ada\n",
        "os.makedirs(output_path, exist_ok=True)\n",
        "\n",
        "# Ambil daftar semua file dalam folder\n",
        "all_files = [f for f in os.listdir(source_path) if os.path.isfile(os.path.join(source_path, f))]\n",
        "\n",
        "# Periksa apakah ada file untuk diproses\n",
        "if not all_files:\n",
        "    raise FileNotFoundError(f\"No files found in source path '{source_path}'.\")\n",
        "\n",
        "# Acak urutan file\n",
        "random.shuffle(all_files)\n",
        "\n",
        "# Tentukan jumlah maksimum file yang akan disalin\n",
        "max_files = 100\n",
        "\n",
        "# Ambil file pertama sebanyak max_files\n",
        "selected_files = all_files[:max_files]\n",
        "\n",
        "# Salin file ke folder tujuan\n",
        "for file_name in selected_files:\n",
        "    source_file = os.path.join(source_path, file_name)\n",
        "    destination_file = os.path.join(output_path, file_name)\n",
        "    shutil.copy(source_file, destination_file)\n",
        "\n",
        "print(f\"Proses selesai. {len(selected_files)} file telah disalin ke folder '{output_path}'.\")"
      ],
      "metadata": {
        "colab": {
          "base_uri": "https://localhost:8080/"
        },
        "id": "510ZbKi1QgGE",
        "outputId": "208dc600-0714-4321-cb1b-20a48a479672"
      },
      "execution_count": null,
      "outputs": [
        {
          "output_type": "stream",
          "name": "stdout",
          "text": [
            "Proses selesai. 100 file telah disalin ke folder '/content/drive/MyDrive/Filter Data/Cacomantis Merulinus'.\n"
          ]
        }
      ]
    },
    {
      "cell_type": "markdown",
      "source": [
        "## Culicicapa Ceylonensis"
      ],
      "metadata": {
        "id": "1sRd7MF1RY4Z"
      }
    },
    {
      "cell_type": "code",
      "source": [
        "import os\n",
        "import shutil\n",
        "import random\n",
        "\n",
        "# Path asal tempat file berada\n",
        "source_path = \"/content/drive/MyDrive/Dataset Burung Terbaru/Culicicapa Ceylonensis\"\n",
        "\n",
        "# Path tujuan untuk menyimpan file yang diacak\n",
        "output_path = \"/content/drive/MyDrive/Filter Data/Culicicapa Ceylonensis\"\n",
        "\n",
        "# Periksa apakah path sumber ada\n",
        "if not os.path.exists(source_path):\n",
        "    raise FileNotFoundError(f\"Source path '{source_path}' does not exist.\")\n",
        "\n",
        "# Buat folder output jika belum ada\n",
        "os.makedirs(output_path, exist_ok=True)\n",
        "\n",
        "# Ambil daftar semua file dalam folder\n",
        "all_files = [f for f in os.listdir(source_path) if os.path.isfile(os.path.join(source_path, f))]\n",
        "\n",
        "# Periksa apakah ada file untuk diproses\n",
        "if not all_files:\n",
        "    raise FileNotFoundError(f\"No files found in source path '{source_path}'.\")\n",
        "\n",
        "# Acak urutan file\n",
        "random.shuffle(all_files)\n",
        "\n",
        "# Tentukan jumlah maksimum file yang akan disalin\n",
        "max_files = 100\n",
        "\n",
        "# Ambil file pertama sebanyak max_files\n",
        "selected_files = all_files[:max_files]\n",
        "\n",
        "# Salin file ke folder tujuan\n",
        "for file_name in selected_files:\n",
        "    source_file = os.path.join(source_path, file_name)\n",
        "    destination_file = os.path.join(output_path, file_name)\n",
        "    shutil.copy(source_file, destination_file)\n",
        "\n",
        "print(f\"Proses selesai. {len(selected_files)} file telah disalin ke folder '{output_path}'.\")"
      ],
      "metadata": {
        "colab": {
          "base_uri": "https://localhost:8080/"
        },
        "id": "uA08_HFcRYmi",
        "outputId": "595ce01c-2140-41c1-d7fa-a88054850fd9"
      },
      "execution_count": null,
      "outputs": [
        {
          "output_type": "stream",
          "name": "stdout",
          "text": [
            "Proses selesai. 100 file telah disalin ke folder '/content/drive/MyDrive/Filter Data/Culicicapa Ceylonensis'.\n"
          ]
        }
      ]
    },
    {
      "cell_type": "markdown",
      "source": [
        "## Geopelia Striata"
      ],
      "metadata": {
        "id": "o8fSfO2sRZZQ"
      }
    },
    {
      "cell_type": "code",
      "source": [
        "import os\n",
        "import shutil\n",
        "import random\n",
        "\n",
        "# Path asal tempat file berada\n",
        "source_path = \"/content/drive/MyDrive/Dataset Burung Terbaru/Geopelia Striata\"\n",
        "\n",
        "# Path tujuan untuk menyimpan file yang diacak\n",
        "output_path = \"/content/drive/MyDrive/Filter Data/Geopelia Striata\"\n",
        "\n",
        "# Periksa apakah path sumber ada\n",
        "if not os.path.exists(source_path):\n",
        "    raise FileNotFoundError(f\"Source path '{source_path}' does not exist.\")\n",
        "\n",
        "# Buat folder output jika belum ada\n",
        "os.makedirs(output_path, exist_ok=True)\n",
        "\n",
        "# Ambil daftar semua file dalam folder\n",
        "all_files = [f for f in os.listdir(source_path) if os.path.isfile(os.path.join(source_path, f))]\n",
        "\n",
        "# Periksa apakah ada file untuk diproses\n",
        "if not all_files:\n",
        "    raise FileNotFoundError(f\"No files found in source path '{source_path}'.\")\n",
        "\n",
        "# Acak urutan file\n",
        "random.shuffle(all_files)\n",
        "\n",
        "# Tentukan jumlah maksimum file yang akan disalin\n",
        "max_files = 100\n",
        "\n",
        "# Ambil file pertama sebanyak max_files\n",
        "selected_files = all_files[:max_files]\n",
        "\n",
        "# Salin file ke folder tujuan\n",
        "for file_name in selected_files:\n",
        "    source_file = os.path.join(source_path, file_name)\n",
        "    destination_file = os.path.join(output_path, file_name)\n",
        "    shutil.copy(source_file, destination_file)\n",
        "\n",
        "print(f\"Proses selesai. {len(selected_files)} file telah disalin ke folder '{output_path}'.\")"
      ],
      "metadata": {
        "colab": {
          "base_uri": "https://localhost:8080/"
        },
        "id": "mfiqNcqMRZur",
        "outputId": "7fe5a891-da22-4a00-fb9d-e0c159be8e50"
      },
      "execution_count": null,
      "outputs": [
        {
          "output_type": "stream",
          "name": "stdout",
          "text": [
            "Proses selesai. 100 file telah disalin ke folder '/content/drive/MyDrive/Filter Data/Geopelia Striata'.\n"
          ]
        }
      ]
    },
    {
      "cell_type": "markdown",
      "source": [
        "## Halcyon Smyrnensis"
      ],
      "metadata": {
        "id": "s9RwhP3XRwFg"
      }
    },
    {
      "cell_type": "code",
      "source": [
        "import os\n",
        "import shutil\n",
        "import random\n",
        "\n",
        "# Path asal tempat file berada\n",
        "source_path = \"/content/drive/MyDrive/Dataset Burung Terbaru/Halcyon Smyrnensis\"\n",
        "\n",
        "# Path tujuan untuk menyimpan file yang diacak\n",
        "output_path = \"/content/drive/MyDrive/Filter Data/Halcyon Smyrnensis\"\n",
        "\n",
        "# Periksa apakah path sumber ada\n",
        "if not os.path.exists(source_path):\n",
        "    raise FileNotFoundError(f\"Source path '{source_path}' does not exist.\")\n",
        "\n",
        "# Buat folder output jika belum ada\n",
        "os.makedirs(output_path, exist_ok=True)\n",
        "\n",
        "# Ambil daftar semua file dalam folder\n",
        "all_files = [f for f in os.listdir(source_path) if os.path.isfile(os.path.join(source_path, f))]\n",
        "\n",
        "# Periksa apakah ada file untuk diproses\n",
        "if not all_files:\n",
        "    raise FileNotFoundError(f\"No files found in source path '{source_path}'.\")\n",
        "\n",
        "# Acak urutan file\n",
        "random.shuffle(all_files)\n",
        "\n",
        "# Tentukan jumlah maksimum file yang akan disalin\n",
        "max_files = 100\n",
        "\n",
        "# Ambil file pertama sebanyak max_files\n",
        "selected_files = all_files[:max_files]\n",
        "\n",
        "# Salin file ke folder tujuan\n",
        "for file_name in selected_files:\n",
        "    source_file = os.path.join(source_path, file_name)\n",
        "    destination_file = os.path.join(output_path, file_name)\n",
        "    shutil.copy(source_file, destination_file)\n",
        "\n",
        "print(f\"Proses selesai. {len(selected_files)} file telah disalin ke folder '{output_path}'.\")"
      ],
      "metadata": {
        "colab": {
          "base_uri": "https://localhost:8080/"
        },
        "id": "abXDfOLZRc06",
        "outputId": "fdfc4870-a69c-428a-b2b4-eb4ee0632ad1"
      },
      "execution_count": null,
      "outputs": [
        {
          "output_type": "stream",
          "name": "stdout",
          "text": [
            "Proses selesai. 100 file telah disalin ke folder '/content/drive/MyDrive/Filter Data/Halcyon Smyrnensis'.\n"
          ]
        }
      ]
    },
    {
      "cell_type": "markdown",
      "source": [
        "## Ninox Scutulata"
      ],
      "metadata": {
        "id": "Gg0dE7NiR3Jx"
      }
    },
    {
      "cell_type": "code",
      "source": [
        "import os\n",
        "import shutil\n",
        "import random\n",
        "\n",
        "# Path asal tempat file berada\n",
        "source_path = \"/content/drive/MyDrive/Dataset Burung Terbaru/Ninox Scutulata\"\n",
        "\n",
        "# Path tujuan untuk menyimpan file yang diacak\n",
        "output_path = \"/content/drive/MyDrive/Filter Data/Ninox Scutulata\"\n",
        "\n",
        "# Periksa apakah path sumber ada\n",
        "if not os.path.exists(source_path):\n",
        "    raise FileNotFoundError(f\"Source path '{source_path}' does not exist.\")\n",
        "\n",
        "# Buat folder output jika belum ada\n",
        "os.makedirs(output_path, exist_ok=True)\n",
        "\n",
        "# Ambil daftar semua file dalam folder\n",
        "all_files = [f for f in os.listdir(source_path) if os.path.isfile(os.path.join(source_path, f))]\n",
        "\n",
        "# Periksa apakah ada file untuk diproses\n",
        "if not all_files:\n",
        "    raise FileNotFoundError(f\"No files found in source path '{source_path}'.\")\n",
        "\n",
        "# Acak urutan file\n",
        "random.shuffle(all_files)\n",
        "\n",
        "# Tentukan jumlah maksimum file yang akan disalin\n",
        "max_files = 100\n",
        "\n",
        "# Ambil file pertama sebanyak max_files\n",
        "selected_files = all_files[:max_files]\n",
        "\n",
        "# Salin file ke folder tujuan\n",
        "for file_name in selected_files:\n",
        "    source_file = os.path.join(source_path, file_name)\n",
        "    destination_file = os.path.join(output_path, file_name)\n",
        "    shutil.copy(source_file, destination_file)\n",
        "\n",
        "print(f\"Proses selesai. {len(selected_files)} file telah disalin ke folder '{output_path}'.\")"
      ],
      "metadata": {
        "colab": {
          "base_uri": "https://localhost:8080/"
        },
        "id": "EHtxsDZ7Rdit",
        "outputId": "16cad0c1-d2dc-4795-f1d8-8325d424b27c"
      },
      "execution_count": null,
      "outputs": [
        {
          "output_type": "stream",
          "name": "stdout",
          "text": [
            "Proses selesai. 100 file telah disalin ke folder '/content/drive/MyDrive/Filter Data/Ninox Scutulata'.\n"
          ]
        }
      ]
    },
    {
      "cell_type": "markdown",
      "source": [
        "## Orthotomus Ruficeps"
      ],
      "metadata": {
        "id": "WVm1QvjYSBfX"
      }
    },
    {
      "cell_type": "code",
      "source": [
        "import os\n",
        "import shutil\n",
        "import random\n",
        "\n",
        "# Path asal tempat file berada\n",
        "source_path = \"/content/drive/MyDrive/Dataset Burung Terbaru/Orthotomus Ruficeps\"\n",
        "\n",
        "# Path tujuan untuk menyimpan file yang diacak\n",
        "output_path = \"/content/drive/MyDrive/Filter Data/Orthotomus Ruficeps\"\n",
        "\n",
        "# Periksa apakah path sumber ada\n",
        "if not os.path.exists(source_path):\n",
        "    raise FileNotFoundError(f\"Source path '{source_path}' does not exist.\")\n",
        "\n",
        "# Buat folder output jika belum ada\n",
        "os.makedirs(output_path, exist_ok=True)\n",
        "\n",
        "# Ambil daftar semua file dalam folder\n",
        "all_files = [f for f in os.listdir(source_path) if os.path.isfile(os.path.join(source_path, f))]\n",
        "\n",
        "# Periksa apakah ada file untuk diproses\n",
        "if not all_files:\n",
        "    raise FileNotFoundError(f\"No files found in source path '{source_path}'.\")\n",
        "\n",
        "# Acak urutan file\n",
        "random.shuffle(all_files)\n",
        "\n",
        "# Tentukan jumlah maksimum file yang akan disalin\n",
        "max_files = 100\n",
        "\n",
        "# Ambil file pertama sebanyak max_files\n",
        "selected_files = all_files[:max_files]\n",
        "\n",
        "# Salin file ke folder tujuan\n",
        "for file_name in selected_files:\n",
        "    source_file = os.path.join(source_path, file_name)\n",
        "    destination_file = os.path.join(output_path, file_name)\n",
        "    shutil.copy(source_file, destination_file)\n",
        "\n",
        "print(f\"Proses selesai. {len(selected_files)} file telah disalin ke folder '{output_path}'.\")"
      ],
      "metadata": {
        "colab": {
          "base_uri": "https://localhost:8080/"
        },
        "id": "X5SmedcZSB6s",
        "outputId": "5ab03b83-b36d-4130-cc94-5c7907507af3"
      },
      "execution_count": null,
      "outputs": [
        {
          "output_type": "stream",
          "name": "stdout",
          "text": [
            "Proses selesai. 100 file telah disalin ke folder '/content/drive/MyDrive/Filter Data/Orthotomus Ruficeps'.\n"
          ]
        }
      ]
    },
    {
      "cell_type": "markdown",
      "source": [
        "## Pitta Sordida"
      ],
      "metadata": {
        "id": "Mjgc8kLeSCXD"
      }
    },
    {
      "cell_type": "code",
      "source": [
        "import os\n",
        "import shutil\n",
        "import random\n",
        "\n",
        "# Path asal tempat file berada\n",
        "source_path = \"/content/drive/MyDrive/Dataset Burung Terbaru/Pitta Sordida\"\n",
        "\n",
        "# Path tujuan untuk menyimpan file yang diacak\n",
        "output_path = \"/content/drive/MyDrive/Filter Data/Pitta Sordida\"\n",
        "\n",
        "# Periksa apakah path sumber ada\n",
        "if not os.path.exists(source_path):\n",
        "    raise FileNotFoundError(f\"Source path '{source_path}' does not exist.\")\n",
        "\n",
        "# Buat folder output jika belum ada\n",
        "os.makedirs(output_path, exist_ok=True)\n",
        "\n",
        "# Ambil daftar semua file dalam folder\n",
        "all_files = [f for f in os.listdir(source_path) if os.path.isfile(os.path.join(source_path, f))]\n",
        "\n",
        "# Periksa apakah ada file untuk diproses\n",
        "if not all_files:\n",
        "    raise FileNotFoundError(f\"No files found in source path '{source_path}'.\")\n",
        "\n",
        "# Acak urutan file\n",
        "random.shuffle(all_files)\n",
        "\n",
        "# Tentukan jumlah maksimum file yang akan disalin\n",
        "max_files = 100\n",
        "\n",
        "# Ambil file pertama sebanyak max_files\n",
        "selected_files = all_files[:max_files]\n",
        "\n",
        "# Salin file ke folder tujuan\n",
        "for file_name in selected_files:\n",
        "    source_file = os.path.join(source_path, file_name)\n",
        "    destination_file = os.path.join(output_path, file_name)\n",
        "    shutil.copy(source_file, destination_file)\n",
        "\n",
        "print(f\"Proses selesai. {len(selected_files)} file telah disalin ke folder '{output_path}'.\")"
      ],
      "metadata": {
        "colab": {
          "base_uri": "https://localhost:8080/"
        },
        "id": "LuCLVhDFSC0J",
        "outputId": "c5d247a3-82dd-4faf-a7c8-cc79c297e322"
      },
      "execution_count": null,
      "outputs": [
        {
          "output_type": "stream",
          "name": "stdout",
          "text": [
            "Proses selesai. 100 file telah disalin ke folder '/content/drive/MyDrive/Filter Data/Pitta Sordida'.\n"
          ]
        }
      ]
    },
    {
      "cell_type": "markdown",
      "source": [
        "## Prinia Flaviventris"
      ],
      "metadata": {
        "id": "hyZGBoyNSDJ0"
      }
    },
    {
      "cell_type": "code",
      "source": [
        "import os\n",
        "import shutil\n",
        "import random\n",
        "\n",
        "# Path asal tempat file berada\n",
        "source_path = \"/content/drive/MyDrive/Dataset Burung Terbaru/Prinia flaviventris\"\n",
        "\n",
        "# Path tujuan untuk menyimpan file yang diacak\n",
        "output_path = \"/content/drive/MyDrive/Filter Data/Prinia Flaviventris\"\n",
        "\n",
        "# Periksa apakah path sumber ada\n",
        "if not os.path.exists(source_path):\n",
        "    raise FileNotFoundError(f\"Source path '{source_path}' does not exist.\")\n",
        "\n",
        "# Buat folder output jika belum ada\n",
        "os.makedirs(output_path, exist_ok=True)\n",
        "\n",
        "# Ambil daftar semua file dalam folder\n",
        "all_files = [f for f in os.listdir(source_path) if os.path.isfile(os.path.join(source_path, f))]\n",
        "\n",
        "# Periksa apakah ada file untuk diproses\n",
        "if not all_files:\n",
        "    raise FileNotFoundError(f\"No files found in source path '{source_path}'.\")\n",
        "\n",
        "# Acak urutan file\n",
        "random.shuffle(all_files)\n",
        "\n",
        "# Tentukan jumlah maksimum file yang akan disalin\n",
        "max_files = 100\n",
        "\n",
        "# Ambil file pertama sebanyak max_files\n",
        "selected_files = all_files[:max_files]\n",
        "\n",
        "# Salin file ke folder tujuan\n",
        "for file_name in selected_files:\n",
        "    source_file = os.path.join(source_path, file_name)\n",
        "    destination_file = os.path.join(output_path, file_name)\n",
        "    shutil.copy(source_file, destination_file)\n",
        "\n",
        "print(f\"Proses selesai. {len(selected_files)} file telah disalin ke folder '{output_path}'.\")"
      ],
      "metadata": {
        "colab": {
          "base_uri": "https://localhost:8080/"
        },
        "id": "x-ZF4rPISDlJ",
        "outputId": "64494516-9e69-4b35-a6b1-215470407b59"
      },
      "execution_count": null,
      "outputs": [
        {
          "output_type": "stream",
          "name": "stdout",
          "text": [
            "Proses selesai. 100 file telah disalin ke folder '/content/drive/MyDrive/Filter Data/Prinia Flaviventris'.\n"
          ]
        }
      ]
    },
    {
      "cell_type": "markdown",
      "source": [
        "## Spilopelia Chinensis"
      ],
      "metadata": {
        "id": "Ugjl06AvSGHq"
      }
    },
    {
      "cell_type": "code",
      "source": [
        "import os\n",
        "import shutil\n",
        "import random\n",
        "\n",
        "# Path asal tempat file berada\n",
        "source_path = \"/content/drive/MyDrive/Dataset Burung Terbaru/Spilopelia Chinensis\"\n",
        "\n",
        "# Path tujuan untuk menyimpan file yang diacak\n",
        "output_path = \"/content/drive/MyDrive/Filter Data/Spilopelia Chinensis\"\n",
        "\n",
        "# Periksa apakah path sumber ada\n",
        "if not os.path.exists(source_path):\n",
        "    raise FileNotFoundError(f\"Source path '{source_path}' does not exist.\")\n",
        "\n",
        "# Buat folder output jika belum ada\n",
        "os.makedirs(output_path, exist_ok=True)\n",
        "\n",
        "# Ambil daftar semua file dalam folder\n",
        "all_files = [f for f in os.listdir(source_path) if os.path.isfile(os.path.join(source_path, f))]\n",
        "\n",
        "# Periksa apakah ada file untuk diproses\n",
        "if not all_files:\n",
        "    raise FileNotFoundError(f\"No files found in source path '{source_path}'.\")\n",
        "\n",
        "# Acak urutan file\n",
        "random.shuffle(all_files)\n",
        "\n",
        "# Tentukan jumlah maksimum file yang akan disalin\n",
        "max_files = 100\n",
        "\n",
        "# Ambil file pertama sebanyak max_files\n",
        "selected_files = all_files[:max_files]\n",
        "\n",
        "# Salin file ke folder tujuan\n",
        "for file_name in selected_files:\n",
        "    source_file = os.path.join(source_path, file_name)\n",
        "    destination_file = os.path.join(output_path, file_name)\n",
        "    shutil.copy(source_file, destination_file)\n",
        "\n",
        "print(f\"Proses selesai. {len(selected_files)} file telah disalin ke folder '{output_path}'.\")"
      ],
      "metadata": {
        "colab": {
          "base_uri": "https://localhost:8080/"
        },
        "id": "cC2vToJNSGh7",
        "outputId": "34b19562-928d-492e-dfd3-beae4150a8ed"
      },
      "execution_count": null,
      "outputs": [
        {
          "output_type": "stream",
          "name": "stdout",
          "text": [
            "Proses selesai. 100 file telah disalin ke folder '/content/drive/MyDrive/Filter Data/Spilopelia Chinensis'.\n"
          ]
        }
      ]
    },
    {
      "cell_type": "markdown",
      "source": [
        "## Surniculus Lugubris"
      ],
      "metadata": {
        "id": "FeCZhHY8SGzw"
      }
    },
    {
      "cell_type": "code",
      "source": [
        "import os\n",
        "import shutil\n",
        "import random\n",
        "\n",
        "# Path asal tempat file berada\n",
        "source_path = \"/content/drive/MyDrive/Dataset Burung Terbaru/Surniculus lugubris\"\n",
        "\n",
        "# Path tujuan untuk menyimpan file yang diacak\n",
        "output_path = \"/content/drive/MyDrive/Filter Data/Surniculus Lugubris\"\n",
        "\n",
        "# Periksa apakah path sumber ada\n",
        "if not os.path.exists(source_path):\n",
        "    raise FileNotFoundError(f\"Source path '{source_path}' does not exist.\")\n",
        "\n",
        "# Buat folder output jika belum ada\n",
        "os.makedirs(output_path, exist_ok=True)\n",
        "\n",
        "# Ambil daftar semua file dalam folder\n",
        "all_files = [f for f in os.listdir(source_path) if os.path.isfile(os.path.join(source_path, f))]\n",
        "\n",
        "# Periksa apakah ada file untuk diproses\n",
        "if not all_files:\n",
        "    raise FileNotFoundError(f\"No files found in source path '{source_path}'.\")\n",
        "\n",
        "# Acak urutan file\n",
        "random.shuffle(all_files)\n",
        "\n",
        "# Tentukan jumlah maksimum file yang akan disalin\n",
        "max_files = 100\n",
        "\n",
        "# Ambil file pertama sebanyak max_files\n",
        "selected_files = all_files[:max_files]\n",
        "\n",
        "# Salin file ke folder tujuan\n",
        "for file_name in selected_files:\n",
        "    source_file = os.path.join(source_path, file_name)\n",
        "    destination_file = os.path.join(output_path, file_name)\n",
        "    shutil.copy(source_file, destination_file)\n",
        "\n",
        "print(f\"Proses selesai. {len(selected_files)} file telah disalin ke folder '{output_path}'.\")"
      ],
      "metadata": {
        "colab": {
          "base_uri": "https://localhost:8080/"
        },
        "id": "Gpg38rHcSHUL",
        "outputId": "7bc01a1e-9f39-49c4-a2d0-707f5dd1ec4c"
      },
      "execution_count": null,
      "outputs": [
        {
          "output_type": "stream",
          "name": "stdout",
          "text": [
            "Proses selesai. 100 file telah disalin ke folder '/content/drive/MyDrive/Filter Data/Surniculus Lugubris'.\n"
          ]
        }
      ]
    }
  ]
}